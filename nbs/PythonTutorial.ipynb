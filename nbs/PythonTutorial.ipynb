{
 "cells": [
  {
   "cell_type": "markdown",
   "metadata": {},
   "source": [
    "# Python Tutorial\n",
    "\n",
    "Most of python is fairly straightforward, but learning any language requires a zoo of syntax, so we'll start with that. To run cells, use Shift-Enter."
   ]
  },
  {
   "cell_type": "code",
   "execution_count": 1,
   "metadata": {},
   "outputs": [
    {
     "name": "stdout",
     "output_type": "stream",
     "text": [
      "3\n",
      "2\n",
      "6\n",
      "1\n"
     ]
    }
   ],
   "source": [
    "# '#' is the comment character\n",
    "# a variable is any string that starts with a character. Variable declaration uses '='\n",
    "variable = 1\n",
    "MyVariable = 2\n",
    "my1variable = 3\n",
    "\n",
    "# Functions are called using parentheses. There are many built in functions.\n",
    "# Mathematical operators work\n",
    "print(variable + MyVariable)\n",
    "print(my1variable - variable)\n",
    "print(my1variable * MyVariable)\n",
    "print(my1variable / MyVariable)"
   ]
  },
  {
   "cell_type": "markdown",
   "metadata": {},
   "source": [
    "Make sure you run the cell above before proceeding (by selecting it with your cursor and inputting Shift-Enter). You'll note that the last line evaluates to 0, because our variables are integers, and so / performs an integer division. If at least one of the divisors is a float, then the division works as a float division. We can declare a float with a decimal point, or by calling ```float``` on one or both of the variables."
   ]
  },
  {
   "cell_type": "code",
   "execution_count": 2,
   "metadata": {},
   "outputs": [
    {
     "name": "stdout",
     "output_type": "stream",
     "text": [
      "<type 'int'>\n",
      "<type 'float'>\n",
      "<type 'float'>\n",
      "1.5\n",
      "<type 'float'>\n",
      "1.5\n"
     ]
    }
   ],
   "source": [
    "# float attempts to convert the argument to a float-type.\n",
    "# Python flexibility comes from the fact that it doesn't check \n",
    "# for the type of an object before it performs an operation on it,\n",
    "# so it throws errors when something doesn't go right. That also\n",
    "# means that if you aren't careful, something might work, but for\n",
    "# the wrong reason. \n",
    "print(type(my1variable))\n",
    "print(type(float(my1variable)))\n",
    "print(type(float('2')))\n",
    "\n",
    "# Retry the division, expecting float division\n",
    "print(float(my1variable) / MyVariable)\n",
    "# the decimal point makes myfloat a float\n",
    "myfloat = 2.\n",
    "print(type(myfloat))\n",
    "print(my1variable / myfloat)"
   ]
  },
  {
   "cell_type": "markdown",
   "metadata": {},
   "source": [
    "In the above, note the ```'2'``` is a new data-type, a string. Calling ```float``` on it converted it to a float, but calling ```float``` on ```'a'``` wouldn't work. The other important built-in data types are lists (```list```, instantiated using square-brackets) and dictionaries (```dict```, instantiated using curly-brackets). "
   ]
  },
  {
   "cell_type": "code",
   "execution_count": 3,
   "metadata": {
    "collapsed": true
   },
   "outputs": [],
   "source": [
    "# This is a list that contains 6 integers\n",
    "mylist = [1, 2, 3, 4, 5, 6]\n",
    "# This dictionary associates names with ages\n",
    "mydict = {'Abby'  : 6,\n",
    "          'Ben'   : 7,\n",
    "          'Carla' : 5,\n",
    "          'Dan'   : 7,\n",
    "          'Eloise': 0.1}"
   ]
  },
  {
   "cell_type": "markdown",
   "metadata": {},
   "source": [
    "Members of a list can be accessed by an index (0 indexed), using square brackets. Dictionaries, on the other hand, have ```keys``` as their indices:"
   ]
  },
  {
   "cell_type": "code",
   "execution_count": 4,
   "metadata": {},
   "outputs": [
    {
     "name": "stdout",
     "output_type": "stream",
     "text": [
      "4\n",
      "0.1\n"
     ]
    }
   ],
   "source": [
    "print(mylist[3])\n",
    "print(mydict['Eloise'])"
   ]
  },
  {
   "cell_type": "markdown",
   "metadata": {},
   "source": [
    "A list is an example of an iterable in Python, allowing you to use Python's efficient list comprehension for certain operations:"
   ]
  },
  {
   "cell_type": "code",
   "execution_count": 5,
   "metadata": {},
   "outputs": [
    {
     "name": "stdout",
     "output_type": "stream",
     "text": [
      "21\n",
      "21\n",
      "720\n"
     ]
    }
   ],
   "source": [
    "# sum is a built-in function\n",
    "print(sum(mylist))\n",
    "# reduce maps an operation iteratively over a list.\n",
    "# This is identical to sum\n",
    "print(reduce(lambda x,y: x+y, mylist))\n",
    "# This computes the produce\n",
    "print(reduce(lambda x,y: x*y, mylist))"
   ]
  },
  {
   "cell_type": "markdown",
   "metadata": {},
   "source": [
    "Iterables, like lists, are important for efficient use of ```for``` loops"
   ]
  },
  {
   "cell_type": "code",
   "execution_count": 6,
   "metadata": {},
   "outputs": [
    {
     "name": "stdout",
     "output_type": "stream",
     "text": [
      "1\n",
      "2\n",
      "3\n",
      "4\n",
      "5\n",
      "6\n"
     ]
    }
   ],
   "source": [
    "# for loop\n",
    "for num in mylist:\n",
    "    print(num)"
   ]
  },
  {
   "cell_type": "markdown",
   "metadata": {},
   "source": [
    "Everything in Python is an ```Object```, and objects contain methods (functions) and data (pointers to other objects or locations in memory). Membership to an object can be found by adding a period, as in ```mydict.keys```, which is a function that generates a list of keys from the dictionary (in our case these are the names). in an iPython notebook, you can use tab completion to determine what members are contained in an object. Below, use tab completion to fill in the appropriate commands. (Note, these will be functions so follow them with empty parentheses () to call them)"
   ]
  },
  {
   "cell_type": "code",
   "execution_count": 7,
   "metadata": {},
   "outputs": [
    {
     "ename": "SyntaxError",
     "evalue": "invalid syntax (<ipython-input-7-4edbb251d552>, line 3)",
     "output_type": "error",
     "traceback": [
      "\u001b[0;36m  File \u001b[0;32m\"<ipython-input-7-4edbb251d552>\"\u001b[0;36m, line \u001b[0;32m3\u001b[0m\n\u001b[0;31m    for name in mydict.      :\u001b[0m\n\u001b[0m                             ^\u001b[0m\n\u001b[0;31mSyntaxError\u001b[0m\u001b[0;31m:\u001b[0m invalid syntax\n"
     ]
    }
   ],
   "source": [
    "# Try to iterate over the names, i.e., the keys\n",
    "#                  BLANK\n",
    "for name in mydict.      :\n",
    "    print(name)\n",
    "    \n",
    "# Sum over the ages, i.e., the values\n",
    "#                BLANK\n",
    "print(sum(mydict.     ))\n"
   ]
  },
  {
   "cell_type": "code",
   "execution_count": 8,
   "metadata": {},
   "outputs": [
    {
     "name": "stdout",
     "output_type": "stream",
     "text": [
      "Carla\n",
      "Ben\n",
      "Dan\n",
      "Abby\n",
      "Eloise\n",
      "25.1\n"
     ]
    }
   ],
   "source": [
    "# Solution\n",
    "for name in mydict.iterkeys():\n",
    "    print(name)\n",
    "print(sum(mydict.values()))"
   ]
  },
  {
   "cell_type": "markdown",
   "metadata": {},
   "source": [
    "More sophisticated mathematical operations can be imported from exernal packages, the most frequently used of which is ```numpy```. To import, use the ```import``` command."
   ]
  },
  {
   "cell_type": "code",
   "execution_count": 9,
   "metadata": {
    "collapsed": true
   },
   "outputs": [],
   "source": [
    "import numpy"
   ]
  },
  {
   "cell_type": "markdown",
   "metadata": {},
   "source": [
    "All of ```numpy```'s functions and objects are containt within it. Such as the all-important ```array```, a mutlidimensional list, accessible by a sequence of indices."
   ]
  },
  {
   "cell_type": "code",
   "execution_count": 10,
   "metadata": {},
   "outputs": [],
   "source": [
    "myarray = numpy.array([])"
   ]
  },
  {
   "cell_type": "markdown",
   "metadata": {},
   "source": [
    "```myarray``` is empty, so we need to fill it. We will create a random array."
   ]
  },
  {
   "cell_type": "code",
   "execution_count": 11,
   "metadata": {},
   "outputs": [
    {
     "name": "stdout",
     "output_type": "stream",
     "text": [
      "[[ 0.72556487  0.74660696  0.94709688  0.91425047]\n",
      " [ 0.97318336  0.57782604  0.05040829  0.17094584]\n",
      " [ 0.13545611  0.75255161  0.2481837   0.74746554]]\n"
     ]
    }
   ],
   "source": [
    "myarray = numpy.random.random((3, 4))\n",
    "print(myarray)"
   ]
  },
  {
   "cell_type": "markdown",
   "metadata": {},
   "source": [
    "Now we can perform operations of these numbers, like finding means:"
   ]
  },
  {
   "cell_type": "code",
   "execution_count": 12,
   "metadata": {},
   "outputs": [
    {
     "name": "stdout",
     "output_type": "stream",
     "text": [
      "0.582461639189\n",
      "[ 0.61140144  0.69232821  0.41522962  0.61088728]\n",
      "[ 0.8333798   0.44309088  0.47091424]\n"
     ]
    }
   ],
   "source": [
    "# Mean of all of them\n",
    "print(numpy.mean(myarray))\n",
    "# Mean of the columns\n",
    "print(numpy.mean(myarray, axis=0))\n",
    "# Mean of the rows\n",
    "print(numpy.mean(myarray, axis=1))"
   ]
  },
  {
   "cell_type": "markdown",
   "metadata": {},
   "source": [
    "To see what functions ```numpy``` offers, use tab completion on ```numpy.``` (```numpy``` with a ```.```).\n",
    "\n",
    "Finally, a quick introduction to plotting using ```matplotlib.pyplot```. Because this is a long package name to write, we can put it all into a different name (```plt```) when we import it"
   ]
  },
  {
   "cell_type": "code",
   "execution_count": 14,
   "metadata": {
    "collapsed": true
   },
   "outputs": [],
   "source": [
    "import matplotlib.pyplot as plt\n",
    "# The next line is needed to insttruct the notebook to display\n",
    "# plots right here.\n",
    "%matplotlib inline"
   ]
  },
  {
   "cell_type": "markdown",
   "metadata": {},
   "source": [
    "Plotting uses the ```plot``` function:"
   ]
  },
  {
   "cell_type": "code",
   "execution_count": 15,
   "metadata": {},
   "outputs": [
    {
     "data": {
      "image/png": "[encoded data removed]",
      "text/plain": [
       "<matplotlib.figure.Figure at 0x7f52aa65d3d0>"
      ]
     },
     "metadata": {},
     "output_type": "display_data"
    }
   ],
   "source": [
    "plt.plot(numpy.random.random(100));"
   ]
  },
  {
   "cell_type": "code",
   "execution_count": 16,
   "metadata": {},
   "outputs": [
    {
     "data": {
      "image/png": "[encoded data removed]",
      "text/plain": [
       "<matplotlib.figure.Figure at 0x7f52a72a7190>"
      ]
     },
     "metadata": {},
     "output_type": "display_data"
    }
   ],
   "source": [
    "xs = numpy.linspace(0, 2*numpy.pi)\n",
    "plt.plot(xs, numpy.sin(xs));"
   ]
  },
  {
   "cell_type": "markdown",
   "metadata": {},
   "source": [
    "If at any time you are unsure of what something is or how to use a function, iPython can give you help through the ```help``` function or by typing a question mark after the object name, as in ```plt.plot?``` or ```variable?```.\n",
    "\n",
    "For other resources, I reccommend using [CodeAcademy](https://www.codecademy.com/learn/python), which is a fairly quick, though much more comprehensive, tutorial. The documentation for [Python](https://docs.python.org/2/index.html) and [Numpy and Scipy](https://docs.scipy.org/doc/) are also excellent, but unguided."
   ]
  }
 ],
 "metadata": {
  "kernelspec": {
   "display_name": "Python 2",
   "language": "python",
   "name": "python2"
  },
  "language_info": {
   "codemirror_mode": {
    "name": "ipython",
    "version": 2
   },
   "file_extension": ".py",
   "mimetype": "text/x-python",
   "name": "python",
   "nbconvert_exporter": "python",
   "pygments_lexer": "ipython2",
   "version": "2.7.13"
  }
 },
 "nbformat": 4,
 "nbformat_minor": 2
}
