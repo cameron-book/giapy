{
 "cells": [
  {
   "cell_type": "code",
   "execution_count": 236,
   "metadata": {
    "collapsed": true
   },
   "outputs": [],
   "source": [
    "%matplotlib inline\n",
    "import numpy as np\n",
    "import matplotlib.pyplot as plt\n",
    "\n",
    "import giapy\n",
    "\n",
    "from giapy.numTools.solvde import solvde\n",
    "from giapy.earth_tools.elasticlove import *\n",
    "\n",
    "prem = giapy.earth.earthParams.EarthParams()"
   ]
  },
  {
   "cell_type": "code",
   "execution_count": 421,
   "metadata": {},
   "outputs": [
    {
     "data": {
      "text/plain": [
       "<matplotlib.figure.Figure at 0x7f4a204b8210>"
      ]
     },
     "metadata": {},
     "output_type": "display_data"
    }
   ],
   "source": [
    "%run ../giapy/earth_tools/viscouslove.py"
   ]
  },
  {
   "cell_type": "code",
   "execution_count": 422,
   "metadata": {
    "collapsed": true
   },
   "outputs": [],
   "source": [
    "Nz = 300\n",
    "zarray_smalln = (np.log10(np.linspace(1., 10**0.1, Nz))*(1-prem.rCore)/0.1 + prem.rCore)*prem.norms['r']\n",
    "zarray_largen = (np.log10(np.linspace(1., 10**2, Nz))*(1-prem.rCore)/2 + prem.rCore)*prem.norms['r']\n",
    "\n",
    "n = 2"
   ]
  },
  {
   "cell_type": "code",
   "execution_count": 423,
   "metadata": {},
   "outputs": [
    {
     "name": "stdout",
     "output_type": "stream",
     "text": [
      "Iter.\n",
      "Error      FAC        \n",
      "0       \n",
      "9.702862   0.103062   \n",
      "Iter.\n",
      "Error      FAC        \n",
      "1       \n",
      "8.702862   0.114905   \n",
      "Iter.\n",
      "Error      FAC        \n",
      "2       \n",
      "7.702862   0.129822   \n",
      "Iter.\n",
      "Error      FAC        \n",
      "3       \n",
      "6.702862   0.149190   \n",
      "Iter.\n",
      "Error      FAC        \n",
      "4       \n",
      "5.702862   0.175351   \n",
      "Iter.\n",
      "Error      FAC        \n",
      "5       \n",
      "4.702862   0.212636   \n",
      "Iter.\n",
      "Error      FAC        \n",
      "6       \n",
      "3.702862   0.270061   \n",
      "Iter.\n",
      "Error      FAC        \n",
      "7       \n",
      "2.702862   0.369978   \n",
      "Iter.\n",
      "Error      FAC        \n",
      "8       \n",
      "1.702862   0.587246   \n",
      "Iter.\n",
      "Error      FAC        \n",
      "9       \n",
      "0.702862   1.000000   \n",
      "Iter.\n",
      "Error      FAC        \n",
      "10      \n",
      "0.000000   1.000000   \n"
     ]
    }
   ],
   "source": [
    "difeqVisc = SphericalViscSMat(n, zarray_smalln, prem, Q=1)\n",
    "indexv = np.array([2,3,0,1])\n",
    "scalvVisc = np.array([1e-12, 1e-12, 1e+02, 1e+01])\n",
    "slowc = 1\n",
    "start = (scalvVisc*np.ones((4, len(zarray_smalln))).T).T\n",
    "yV = solvde(500, 1e-14, slowc, scalvVisc, indexv, 2,\n",
    "                            start, difeqVisc, True, True)"
   ]
  },
  {
   "cell_type": "code",
   "execution_count": 424,
   "metadata": {},
   "outputs": [
    {
     "name": "stdout",
     "output_type": "stream",
     "text": [
      "0\n"
     ]
    },
    {
     "data": {
      "text/plain": [
       "[<matplotlib.lines.Line2D at 0x7f4a21f54bd0>]"
      ]
     },
     "execution_count": 424,
     "metadata": {},
     "output_type": "execute_result"
    },
    {
     "data": {
      "image/png": "[encoded data removed]",
      "text/plain": [
       "<matplotlib.figure.Figure at 0x7f4a2069e090>"
      ]
     },
     "metadata": {},
     "output_type": "display_data"
    }
   ],
   "source": [
    "i += 1\n",
    "if i > 3: i=0\n",
    "print i\n",
    "plt.plot(zarray_smalln, yV[i])"
   ]
  },
  {
   "cell_type": "code",
   "execution_count": null,
   "metadata": {
    "collapsed": true
   },
   "outputs": [],
   "source": []
  },
  {
   "cell_type": "code",
   "execution_count": 425,
   "metadata": {},
   "outputs": [
    {
     "name": "stdout",
     "output_type": "stream",
     "text": [
      "Iter.\n",
      "Error      FAC        \n",
      "0       \n",
      "3.788820   0.263934   \n",
      "Iter.\n",
      "Error      FAC        \n",
      "1       \n",
      "2.788820   0.358575   \n",
      "Iter.\n",
      "Error      FAC        \n",
      "2       \n",
      "1.788820   0.559028   \n",
      "Iter.\n",
      "Error      FAC        \n",
      "3       \n",
      "0.788820   1.000000   \n",
      "Iter.\n",
      "Error      FAC        \n",
      "4       \n",
      "0.000000   1.000000   \n"
     ]
    }
   ],
   "source": [
    "difeqElas = SphericalElasSMat(n, zarray_smalln, prem, Q=2)\n",
    "indexv = np.array([3,4,0,1,5,2])\n",
    "scalvElas = np.array([1e-02, 1e-02, 1e+02, 1e+01, 1e+01, 1e-07])\n",
    "slowc = 1\n",
    "start = (scalvElas*np.ones((6, len(zarray_smalln))).T).T\n",
    "yE = solvde(500, 1e-10, slowc, scalvElas, indexv, 3,\n",
    "                            start, difeqElas, True, True)"
   ]
  },
  {
   "cell_type": "code",
   "execution_count": 426,
   "metadata": {},
   "outputs": [],
   "source": [
    "b = gen_viscb(n, yE.y, np.zeros_like(zarray_smalln_norm), \n",
    "              prem, 0.5*(zarray_smalln[1:] + zarray_smalln[:-1]), Q=2)"
   ]
  },
  {
   "cell_type": "code",
   "execution_count": 427,
   "metadata": {},
   "outputs": [
    {
     "name": "stdout",
     "output_type": "stream",
     "text": [
      "Iter.\n",
      "Error      FAC        \n",
      "0       \n",
      "3.012526   0.165974   \n",
      "Iter.\n",
      "Error      FAC        \n",
      "1       \n",
      "2.512526   0.199003   \n",
      "Iter.\n",
      "Error      FAC        \n",
      "2       \n",
      "2.012526   0.248444   \n",
      "Iter.\n",
      "Error      FAC        \n",
      "3       \n",
      "1.512526   0.330573   \n",
      "Iter.\n",
      "Error      FAC        \n",
      "4       \n",
      "1.012526   0.493814   \n",
      "Iter.\n",
      "Error      FAC        \n",
      "5       \n",
      "0.512526   0.975560   \n",
      "Iter.\n",
      "Error      FAC        \n",
      "6       \n",
      "0.012526   1.000000   \n",
      "Iter.\n",
      "Error      FAC        \n",
      "7       \n",
      "0.000000   1.000000   \n"
     ]
    }
   ],
   "source": [
    "difeqVisc = SphericalViscSMat(n, zarray_smalln, \n",
    "                                       prem, Q=1, b=b)\n",
    "indexv = np.array([2,3,0,1])\n",
    "scalvVisc = np.array([1e-12, 1e-12, 1e+02, 1e+01])\n",
    "slowc = 0.5\n",
    "start = (scalvVisc*np.ones((4, len(zarray_smalln_norm))).T).T\n",
    "yVb = solvde(500, 1e-14, slowc, scalvVisc, indexv, 2,\n",
    "                            start, difeqVisc, True, True)"
   ]
  },
  {
   "cell_type": "code",
   "execution_count": null,
   "metadata": {
    "collapsed": true
   },
   "outputs": [],
   "source": []
  },
  {
   "cell_type": "code",
   "execution_count": null,
   "metadata": {
    "collapsed": true
   },
   "outputs": [],
   "source": []
  },
  {
   "cell_type": "code",
   "execution_count": 428,
   "metadata": {
    "collapsed": true
   },
   "outputs": [],
   "source": [
    "paramCore = prem.getParams(prem.rCore)\n",
    "rhoC = paramCore['den']\n",
    "gC = paramCore['grav']\n",
    "denC = prem.denCore\n",
    "\n",
    "re = prem.norms['r']"
   ]
  },
  {
   "cell_type": "code",
   "execution_count": null,
   "metadata": {
    "collapsed": true
   },
   "outputs": [],
   "source": []
  },
  {
   "cell_type": "code",
   "execution_count": 430,
   "metadata": {},
   "outputs": [
    {
     "data": {
      "image/png": "[encoded data removed]",
      "text/plain": [
       "<matplotlib.figure.Figure at 0x7f4a216c7690>"
      ]
     },
     "metadata": {},
     "output_type": "display_data"
    }
   ],
   "source": [
    "i=2\n",
    "#i += 1\n",
    "#if i > 3: i=0\n",
    "#print i\n",
    "fig, axs = plt.subplots(2,2, figsize=(12,8))\n",
    "for i, ax in enumerate(axs.flatten()):\n",
    "    ax.plot(zarray_smalln_norm, yV[i]);\n",
    "    ax.plot(zarray_smalln_norm, yE[i]);\n",
    "    ax.plot(zarray_smalln_norm, yVb[i]);"
   ]
  },
  {
   "cell_type": "code",
   "execution_count": 342,
   "metadata": {},
   "outputs": [
    {
     "data": {
      "text/plain": [
       "0.0"
      ]
     },
     "execution_count": 342,
     "metadata": {},
     "output_type": "execute_result"
    }
   ],
   "source": [
    "yV[2,0]"
   ]
  },
  {
   "cell_type": "code",
   "execution_count": 343,
   "metadata": {},
   "outputs": [
    {
     "data": {
      "text/plain": [
       "-1410.7038885812303"
      ]
     },
     "execution_count": 343,
     "metadata": {},
     "output_type": "execute_result"
    }
   ],
   "source": [
    "yE[2,0]"
   ]
  },
  {
   "cell_type": "code",
   "execution_count": 344,
   "metadata": {},
   "outputs": [
    {
     "data": {
      "text/plain": [
       "-1410.7038885812306"
      ]
     },
     "execution_count": 344,
     "metadata": {},
     "output_type": "execute_result"
    }
   ],
   "source": [
    "yVb[2,0]"
   ]
  },
  {
   "cell_type": "code",
   "execution_count": null,
   "metadata": {
    "collapsed": true
   },
   "outputs": [],
   "source": []
  },
  {
   "cell_type": "code",
   "execution_count": 345,
   "metadata": {
    "collapsed": true
   },
   "outputs": [],
   "source": [
    "yE0, yV0 = giapy.earth.earthIntegrator.get_t0_guess(prem, zarray_smalln_norm)"
   ]
  },
  {
   "cell_type": "code",
   "execution_count": 401,
   "metadata": {},
   "outputs": [
    {
     "data": {
      "text/plain": [
       "[<matplotlib.lines.Line2D at 0x7f4a2054e250>]"
      ]
     },
     "execution_count": 401,
     "metadata": {},
     "output_type": "execute_result"
    },
    {
     "data": {
      "image/png": "[encoded data removed]",
      "text/plain": [
       "<matplotlib.figure.Figure at 0x7f4a2054ecd0>"
      ]
     },
     "metadata": {},
     "output_type": "display_data"
    }
   ],
   "source": [
    "plt.plot(zarray_smalln_norm, yE0[2])\n",
    "plt.plot(zarray_smalln_norm, yV0[2])"
   ]
  },
  {
   "cell_type": "code",
   "execution_count": null,
   "metadata": {
    "collapsed": true
   },
   "outputs": [],
   "source": []
  },
  {
   "cell_type": "code",
   "execution_count": null,
   "metadata": {
    "collapsed": true
   },
   "outputs": [],
   "source": []
  },
  {
   "cell_type": "code",
   "execution_count": null,
   "metadata": {
    "collapsed": true
   },
   "outputs": [],
   "source": []
  },
  {
   "cell_type": "code",
   "execution_count": null,
   "metadata": {
    "collapsed": true
   },
   "outputs": [],
   "source": []
  },
  {
   "cell_type": "code",
   "execution_count": null,
   "metadata": {
    "collapsed": true
   },
   "outputs": [],
   "source": []
  },
  {
   "cell_type": "code",
   "execution_count": null,
   "metadata": {
    "collapsed": true
   },
   "outputs": [],
   "source": []
  },
  {
   "cell_type": "code",
   "execution_count": null,
   "metadata": {
    "collapsed": true
   },
   "outputs": [],
   "source": []
  },
  {
   "cell_type": "code",
   "execution_count": null,
   "metadata": {
    "collapsed": true
   },
   "outputs": [],
   "source": []
  },
  {
   "cell_type": "code",
   "execution_count": 269,
   "metadata": {},
   "outputs": [
    {
     "name": "stdout",
     "output_type": "stream",
     "text": [
      "Iter.\n",
      "Error      FAC        \n",
      "0       \n",
      "0.362045   1.000000   \n",
      "Iter.\n",
      "Error      FAC        \n",
      "1       \n",
      "0.000000   1.000000   \n"
     ]
    }
   ],
   "source": [
    "Nz = 300\n",
    "zarray_smalln_norm = (np.log10(np.linspace(1., 10**0.1, Nz))*(1-prem.rCore)/0.1 + prem.rCore)\n",
    "zarray_largen_norm = (np.log10(np.linspace(1., 10**10, Nz))*(1-prem.rCore)/10 + prem.rCore)\n",
    "\n",
    "difeqVisc = SphericalViscSMat_norm(n, zarray_smalln_norm, prem, Q=1)\n",
    "indexv = np.array([2,3,0,1])\n",
    "scalvVisc = np.array([1, 1, 1, 1])\n",
    "slowc = 1\n",
    "start = (scalvVisc*np.ones((4, len(zarray_smalln_norm))).T).T\n",
    "yVn = solvde(500, 1e-14, slowc, scalvVisc, indexv, 2,\n",
    "                            start, difeqVisc, True, True)"
   ]
  },
  {
   "cell_type": "code",
   "execution_count": null,
   "metadata": {
    "collapsed": true
   },
   "outputs": [],
   "source": []
  },
  {
   "cell_type": "code",
   "execution_count": 199,
   "metadata": {},
   "outputs": [
    {
     "name": "stdout",
     "output_type": "stream",
     "text": [
      "Iter.\n",
      "Error      FAC        \n",
      "0       \n",
      "1.269190   0.787904   \n",
      "Iter.\n",
      "Error      FAC        \n",
      "1       \n",
      "0.269190   1.000000   \n",
      "Iter.\n",
      "Error      FAC        \n",
      "2       \n",
      "0.000000   1.000000   \n"
     ]
    }
   ],
   "source": [
    "difeqElas = SphericalElasSMat_norm(n, zarray_smalln_norm, prem, Q=1)\n",
    "indexv = np.array([3,4,0,1,5,2])\n",
    "scalvElas = np.array([1, 1, 1, 1, 1, 1])\n",
    "slowc = 1\n",
    "start = (scalvElas*np.ones((6, len(zarray_smalln_norm))).T).T\n",
    "yE2nE = solvde(500, 1e-12, slowc, scalvElas, indexv, 3,\n",
    "                            start, difeqElas, True)"
   ]
  },
  {
   "cell_type": "code",
   "execution_count": 233,
   "metadata": {},
   "outputs": [
    {
     "name": "stdout",
     "output_type": "stream",
     "text": [
      "0\n"
     ]
    },
    {
     "data": {
      "image/png": "[encoded data removed]",
      "text/plain": [
       "<matplotlib.figure.Figure at 0x7f4a21fc5d90>"
      ]
     },
     "metadata": {},
     "output_type": "display_data"
    }
   ],
   "source": [
    "i += 1\n",
    "if i > 3: i=0\n",
    "print i\n",
    "plt.plot(zarray_smalln_norm, yE2n[i]);\n",
    "plt.plot(zarray_smalln_norm, yE2nE[i], c='g');\n",
    "plt.twinx();\n",
    "plt.plot(zarray_smalln_norm, yE2[i], c='r');"
   ]
  },
  {
   "cell_type": "code",
   "execution_count": 159,
   "metadata": {
    "collapsed": true
   },
   "outputs": [],
   "source": [
    "%run ../giapy/earth_tools/viscouslove.py"
   ]
  },
  {
   "cell_type": "code",
   "execution_count": 160,
   "metadata": {
    "collapsed": true
   },
   "outputs": [],
   "source": [
    "zmid = 0.5*(zarray_smalln_norm[1:] + zarray_smalln_norm[:-1])\n",
    "uV = np.zeros_like(zarray_smalln_norm)\n",
    "b = gen_viscb(n, yE2nE.y.T, uV, prem, zmid)"
   ]
  },
  {
   "cell_type": "code",
   "execution_count": 161,
   "metadata": {
    "scrolled": true
   },
   "outputs": [
    {
     "name": "stdout",
     "output_type": "stream",
     "text": [
      "Iter.\n",
      "Error      FAC        \n",
      "0       \n",
      "0.263044   1.000000   \n",
      "Iter.\n",
      "Error      FAC        \n",
      "1       \n",
      "0.000000   1.000000   \n"
     ]
    }
   ],
   "source": [
    "difeqVisc = SphericalViscSMat_norm(n, zarray_smalln_norm, \n",
    "                                       prem, Q=1, b=b)\n",
    "indexv = np.array([2,3,0,1])\n",
    "scalvVisc = np.array([1, 1, 1, 1])\n",
    "slowc = 1\n",
    "start = (scalvVisc*np.ones((4, len(zarray_smalln_norm))).T).T\n",
    "yE2nb = solvde(500, 1e-10, slowc, scalvVisc, indexv, 2,\n",
    "                            start, difeqVisc, True, True)"
   ]
  },
  {
   "cell_type": "code",
   "execution_count": 179,
   "metadata": {},
   "outputs": [
    {
     "name": "stdout",
     "output_type": "stream",
     "text": [
      "3\n"
     ]
    },
    {
     "data": {
      "text/plain": [
       "[<matplotlib.lines.Line2D at 0x7f4a2235d210>]"
      ]
     },
     "execution_count": 179,
     "metadata": {},
     "output_type": "execute_result"
    },
    {
     "data": {
      "image/png": "[encoded data removed]",
      "text/plain": [
       "<matplotlib.figure.Figure at 0x7f4a2235d410>"
      ]
     },
     "metadata": {},
     "output_type": "display_data"
    }
   ],
   "source": [
    "i += 1\n",
    "if i > 3: i=0\n",
    "print i\n",
    "plt.plot(zarray_smalln_norm, yE2nE[i])\n",
    "plt.plot(zarray_smalln_norm, yE2nb[i])"
   ]
  },
  {
   "cell_type": "code",
   "execution_count": null,
   "metadata": {
    "collapsed": true
   },
   "outputs": [],
   "source": []
  },
  {
   "cell_type": "code",
   "execution_count": null,
   "metadata": {
    "collapsed": true
   },
   "outputs": [],
   "source": []
  },
  {
   "cell_type": "code",
   "execution_count": null,
   "metadata": {
    "collapsed": true
   },
   "outputs": [],
   "source": []
  },
  {
   "cell_type": "code",
   "execution_count": 174,
   "metadata": {},
   "outputs": [
    {
     "name": "stdout",
     "output_type": "stream",
     "text": [
      "2\n"
     ]
    },
    {
     "data": {
      "text/plain": [
       "[<matplotlib.lines.Line2D at 0x7f4a22732390>]"
      ]
     },
     "execution_count": 174,
     "metadata": {},
     "output_type": "execute_result"
    },
    {
     "data": {
      "image/png": "[encoded data removed]",
      "text/plain": [
       "<matplotlib.figure.Figure at 0x7f4a22732850>"
      ]
     },
     "metadata": {},
     "output_type": "display_data"
    }
   ],
   "source": [
    "i += 1\n",
    "if i > 3: i=0\n",
    "print i\n",
    "plt.plot(zarray_smalln_norm, yE2n[i])\n",
    "plt.plot(zarray_smalln_norm, yE2nb[i])"
   ]
  },
  {
   "cell_type": "code",
   "execution_count": null,
   "metadata": {
    "collapsed": true
   },
   "outputs": [],
   "source": []
  },
  {
   "cell_type": "code",
   "execution_count": null,
   "metadata": {
    "collapsed": true
   },
   "outputs": [],
   "source": []
  },
  {
   "cell_type": "code",
   "execution_count": null,
   "metadata": {
    "collapsed": true
   },
   "outputs": [],
   "source": []
  },
  {
   "cell_type": "code",
   "execution_count": 14,
   "metadata": {
    "collapsed": true
   },
   "outputs": [],
   "source": [
    "def exp_pt_density(nz, delta=1., x0=0., x1=1., normed_delta=True):\n",
    "    \"\"\"Generate a point distribution with exponential spacing.\n",
    "\n",
    "    Parameters\n",
    "    ----------\n",
    "    nz : integer - number of points to generate\n",
    "    delta : float\n",
    "        The exponential rate of increase (decrease if negative) of point \n",
    "        density. It is assumed to be normalized to the distance x1-x0 unless\n",
    "        normed_delta=False. (Default 1.)\n",
    "    x0, x1 : the range over which to distribute points (Defaults 0 to 1)\n",
    "    \"\"\"\n",
    "    qs = np.arange(nz, dtype=float)\n",
    "    if normed_delta:\n",
    "        xs = (x1-x0)*delta * np.log(qs/(nz-1)*(np.exp(1./delta) - 1) + 1) + x0\n",
    "    else:\n",
    "        xs = x1* np.log(qs/(nz-1)*(np.exp((x1-x0)/delta) - 1) + 1) + x0\n",
    "    return xs"
   ]
  },
  {
   "cell_type": "code",
   "execution_count": 15,
   "metadata": {},
   "outputs": [
    {
     "name": "stdout",
     "output_type": "stream",
     "text": [
      "Iter.\n",
      "Error      FAC        \n",
      "0       \n",
      "0.336279   1.000000   \n",
      "Iter.\n",
      "Error      FAC        \n",
      "1       \n",
      "0.000000   1.000000   \n"
     ]
    }
   ],
   "source": [
    "Nz = 100\n",
    "n = 2\n",
    "\n",
    "zarray = exp_pt_density(Nz, np.log(n)/(n+.5), prem.rCore, 1.)\n",
    "\n",
    "difeqVisc = SphericalViscSMat_norm(n, zarray, prem, Q=1)\n",
    "indexv = np.array([2,3,0,1])\n",
    "scalvVisc = np.array([1, 1, 1, 1])\n",
    "slowc = 1\n",
    "start = (scalvVisc*np.ones((4, len(zarray))).T).T\n",
    "yE2nexp = solvde(500, 1e-10, slowc, scalvVisc, indexv, 2,\n",
    "                            start, difeqVisc, True, True)"
   ]
  },
  {
   "cell_type": "code",
   "execution_count": 16,
   "metadata": {
    "collapsed": true
   },
   "outputs": [],
   "source": [
    "qs = exp_pt_density(100, 0.1)"
   ]
  },
  {
   "cell_type": "code",
   "execution_count": 17,
   "metadata": {},
   "outputs": [
    {
     "data": {
      "text/plain": [
       "[<matplotlib.lines.Line2D at 0x7f4a275f5e10>]"
      ]
     },
     "execution_count": 17,
     "metadata": {},
     "output_type": "execute_result"
    },
    {
     "data": {
      "image/png": "[encoded data removed]",
      "text/plain": [
       "<matplotlib.figure.Figure at 0x7f4a27899350>"
      ]
     },
     "metadata": {},
     "output_type": "display_data"
    }
   ],
   "source": [
    "plt.plot(np.exp(qs/0.1), marker='o')"
   ]
  },
  {
   "cell_type": "code",
   "execution_count": 18,
   "metadata": {},
   "outputs": [
    {
     "data": {
      "text/plain": [
       "(99, 6, 6)"
      ]
     },
     "execution_count": 18,
     "metadata": {},
     "output_type": "execute_result"
    }
   ],
   "source": [
    "difeqVisc.A.shape"
   ]
  },
  {
   "cell_type": "code",
   "execution_count": 19,
   "metadata": {},
   "outputs": [
    {
     "ename": "NameError",
     "evalue": "name 'is1' is not defined",
     "output_type": "error",
     "traceback": [
      "\u001b[0;31m---------------------------------------------------------------------------\u001b[0m",
      "\u001b[0;31mNameError\u001b[0m                                 Traceback (most recent call last)",
      "\u001b[0;32m<ipython-input-19-3f4df21773fb>\u001b[0m in \u001b[0;36m<module>\u001b[0;34m()\u001b[0m\n\u001b[0;32m----> 1\u001b[0;31m \u001b[0mdifeqVisc\u001b[0m\u001b[0;34m.\u001b[0m\u001b[0msmatrix\u001b[0m\u001b[0;34m(\u001b[0m\u001b[0;36m0\u001b[0m\u001b[0;34m,\u001b[0m \u001b[0;36m0\u001b[0m\u001b[0;34m,\u001b[0m \u001b[0;36m100\u001b[0m\u001b[0;34m,\u001b[0m \u001b[0;36m8\u001b[0m\u001b[0;34m,\u001b[0m \u001b[0mis1\u001b[0m\u001b[0;34m,\u001b[0m \u001b[0misf\u001b[0m\u001b[0;34m,\u001b[0m \u001b[0mindexv\u001b[0m\u001b[0;34m,\u001b[0m \u001b[0ms\u001b[0m\u001b[0;34m,\u001b[0m \u001b[0my\u001b[0m\u001b[0;34m)\u001b[0m\u001b[0;34m\u001b[0m\u001b[0m\n\u001b[0m",
      "\u001b[0;31mNameError\u001b[0m: name 'is1' is not defined"
     ]
    }
   ],
   "source": [
    "difeqVisc.smatrix(0, 0, 100, 8, is1, isf, indexv, s, y)"
   ]
  }
 ],
 "metadata": {
  "kernelspec": {
   "display_name": "Python 2",
   "language": "python",
   "name": "python2"
  },
  "language_info": {
   "codemirror_mode": {
    "name": "ipython",
    "version": 2
   },
   "file_extension": ".py",
   "mimetype": "text/x-python",
   "name": "python",
   "nbconvert_exporter": "python",
   "pygments_lexer": "ipython2",
   "version": "2.7.13"
  }
 },
 "nbformat": 4,
 "nbformat_minor": 2
}
